{
 "cells": [
  {
   "cell_type": "code",
   "execution_count": 1,
   "metadata": {},
   "outputs": [
    {
     "name": "stdout",
     "output_type": "stream",
     "text": [
      "env: CUDA_DEVICE_ORDER=PCI_BUS_ID\n",
      "env: CUDA_VISIBLE_DEVICES=1\n"
     ]
    }
   ],
   "source": [
    "%env CUDA_DEVICE_ORDER=PCI_BUS_ID\n",
    "%env CUDA_VISIBLE_DEVICES=1\n",
    "import pytorch_lightning as pl\n",
    "import torch\n",
    "from torch import nn\n",
    "import torchvision.models as models\n",
    "from pytorch_lightning.metrics import MetricCollection, Accuracy, Precision, Recall, ConfusionMatrix, PrecisionRecallCurve\n",
    "from pytorch_lightning.callbacks import ModelCheckpoint\n"
   ]
  },
  {
   "cell_type": "code",
   "execution_count": 2,
   "metadata": {},
   "outputs": [],
   "source": [
    "class ImEncodeModel(pl.LightningModule):\n",
    "\n",
    "    def __init__(self):\n",
    "        super().__init__()\n",
    "        \n",
    "        self.image_model = models.resnet18(pretrained=True)\n",
    "        self.image_model.fc = nn.Sequential()\n",
    "    \n",
    "    \n",
    "    def forward(self, input_image):\n",
    "        encoding = self.image_model(input_image)\n",
    "        return encoding"
   ]
  },
  {
   "cell_type": "code",
   "execution_count": 55,
   "metadata": {},
   "outputs": [],
   "source": [
    "class FirstModel(pl.LightningModule):\n",
    "\n",
    "    def __init__(self):\n",
    "        super().__init__()\n",
    "        \n",
    "        ##THIS PATH NEEDS TO BE MODIFIED TO AN RESNET-18 THAT HAS BEEN PRETRAINED WITH A TRIPLET LOSS\n",
    "        self.image_model = ImEncodeModel.load_from_checkpoint(checkpoint_path=\\\n",
    "                                                              '/home/dennis/agriculture/lightning_logs/version_93/checkpoints/epoch=25-step=5615.ckpt')\n",
    "        \n",
    "        self.predictor = nn.Sequential(nn.Linear(512*2, 512),\n",
    "                                       nn.ReLU(),\n",
    "                                       nn.Linear(512,256),\n",
    "                                       nn.ReLU(),\n",
    "                                       nn.Linear(256,128),\n",
    "                                       nn.ReLU(),\n",
    "                                       nn.Linear(128,64),\n",
    "                                       nn.ReLU(),\n",
    "                                       nn.Linear(64,32),\n",
    "                                       nn.ReLU(),\n",
    "                                       nn.Linear(32,1))\n",
    "\n",
    "        \n",
    "        self.train_metrics = MetricCollection({\n",
    "                                                \"tr/acc\": Accuracy(threshold = 0.5),\n",
    "                                                \"tr/precision\":Precision(is_multiclass = False, threshold = 0.5),\n",
    "                                                \"tr/recall\":Recall(is_multiclass = False, threshold = 0.5),\n",
    "                                                \n",
    "        })\n",
    "        self.valid_metrics = MetricCollection({\n",
    "                                                \"val/acc\": Accuracy(threshold = 0.5),\n",
    "                                                \"val/precision\":Precision(is_multiclass = False, threshold = 0.5),\n",
    "                                                \"val/recall\":Recall(is_multiclass = False, threshold = 0.5)\n",
    "        })\n",
    "        self.test_metrics = MetricCollection({\n",
    "                                                \"test/acc\": Accuracy(threshold = 0.5),\n",
    "                                                \"test/precision\":Precision(is_multiclass = False, threshold = 0.5),\n",
    "                                                \"test/recall\":Recall(is_multiclass = False, threshold = 0.5)\n",
    "        })\n",
    "        \n",
    "\n",
    "        self.confmat = ConfusionMatrix(num_classes=2, threshold = 0.5)\n",
    "        self.prc = PrecisionRecallCurve(num_classes = 1)\n",
    "    \n",
    "    def loss(self,x,y, weight = None):\n",
    "        if weight is None:\n",
    "            return nn.functional.binary_cross_entropy_with_logits(x.squeeze(),y.squeeze())\n",
    "        else:\n",
    "            return nn.functional.binary_cross_entropy_with_logits(x.squeeze(),y.squeeze(), weight = weight.squeeze())\n",
    "    \n",
    "    def forward(self, healthy_image, unknown_image):\n",
    "        encoded_healthy_image = self.image_model(healthy_image)#.permute(0,3,1,2))\n",
    "        encoded_unknown_image = self.image_model(unknown_image)#.permute(0,3,1,2))\n",
    "        #distance_matrix_line = self.distance_matrix_predictor(torch.cat((encoded_healthy_image, encoded_unknown_image), -1))\n",
    "        #distance_matrix = torch.einsum(\"bn,bo->bno\", distance_matrix_line, distance_matrix_line)\n",
    "        #distance = torch.einsum(\"bi,bij,bj->b\", encoded_healthy_image, distance_matrix, encoded_unknown_image)\n",
    "        #prediction = self.distance_predictor(distance.unsqueeze(-1))\n",
    "        prediction = self.predictor(torch.cat((encoded_healthy_image, encoded_unknown_image), -1))\n",
    "        return prediction\n",
    "\n",
    "    def training_step(self, batch, batch_idx):\n",
    "        prediction = self.forward(batch['healthy image'], batch['unknown image'])\n",
    "\n",
    "        # reconstruction\n",
    "        reconstruction_loss = self.loss(prediction, batch['label'], batch['weight'])\n",
    "        self.log(\"tr/loss\", reconstruction_loss)\n",
    "        \n",
    "        self.train_metrics(torch.sigmoid(prediction), batch['label'].squeeze().long())\n",
    "        self.log_dict(self.train_metrics, on_step=True, on_epoch=True)\n",
    "        return reconstruction_loss\n",
    "\n",
    "    def validation_step(self, batch, batch_idx):\n",
    "        prediction = self.forward(batch['healthy image'], batch['unknown image'])\n",
    "        # reconstruction\n",
    "        reconstruction_loss = self.loss(prediction, batch['label'], batch['weight'])\n",
    "        self.log(\"val/loss\", reconstruction_loss)\n",
    "        \n",
    "        self.valid_metrics(torch.sigmoid(prediction), batch['label'].squeeze().long())\n",
    "        self.log_dict(self.valid_metrics, on_step=False, on_epoch=True)\n",
    "        \n",
    "        return reconstruction_loss\n",
    "    \n",
    "    def test_step(self, batch, batch_idx):\n",
    "        \n",
    "        prediction = self.forward(batch['healthy image'], batch['unknown image'])\n",
    "        # reconstruction\n",
    "        reconstruction_loss = self.loss(prediction, batch['label'], batch['weight'])\n",
    "        self.log(\"test/loss\", reconstruction_loss)\n",
    "        \n",
    "        self.test_metrics(torch.sigmoid(prediction), batch['label'].squeeze().long())\n",
    "        self.log_dict(self.test_metrics, on_step=False, on_epoch=True)\n",
    "        self.confmat.update(torch.sigmoid(prediction), batch['label'].squeeze().long())\n",
    "        #print(torch.sigmoid(prediction).shape)\n",
    "        self.prc.update(torch.sigmoid(prediction).squeeze(), batch['label'].squeeze().long())\n",
    "        return reconstruction_loss\n",
    "        \n",
    "\n",
    "    def configure_optimizers(self):\n",
    "        return torch.optim.Adam(self.parameters(), lr=0.000002)"
   ]
  },
  {
   "cell_type": "code",
   "execution_count": 56,
   "metadata": {
    "scrolled": true
   },
   "outputs": [
    {
     "name": "stdout",
     "output_type": "stream",
     "text": [
      "plants in this dataset: ['Strawberry', 'Tomato']\n",
      "Strawberry, healthy: 319\n",
      "Strawberry, Leaf_scorch: 776\n",
      "Tomato, Septoria_leaf_spot: 1239\n",
      "Tomato, Leaf_Mold: 666\n",
      "Tomato, healthy: 1113\n",
      "Tomato, Spider_mites Two-spotted_spider_mite: 1173\n",
      "Tomato, Late_blight: 1336\n",
      "Tomato, Bacterial_spot: 1488\n",
      "Tomato, Early_blight: 700\n",
      "Tomato, Tomato_Yellow_Leaf_Curl_Virus: 3749\n",
      "Tomato, Tomato_mosaic_virus: 261\n",
      "Tomato, Target_Spot: 982\n",
      "weight sum: 0.005408180138046165\n",
      "weights: {'Strawberry': {'healthy': 0.5796397601831796, 'unhealthy': 0.23827974677633285}, 'Tomato': {'healthy': 0.16613215049275318, 'unhealthy': 0.015948342547734543}}\n",
      "\n",
      "\n",
      "plants in this dataset: ['Strawberry', 'Tomato']\n",
      "Strawberry, healthy: 68\n",
      "Strawberry, Leaf_scorch: 166\n",
      "Tomato, Septoria_leaf_spot: 266\n",
      "Tomato, Leaf_Mold: 143\n",
      "Tomato, healthy: 238\n",
      "Tomato, Spider_mites Two-spotted_spider_mite: 251\n",
      "Tomato, Late_blight: 286\n",
      "Tomato, Bacterial_spot: 319\n",
      "Tomato, Early_blight: 150\n",
      "Tomato, Tomato_Yellow_Leaf_Curl_Virus: 804\n",
      "Tomato, Tomato_mosaic_virus: 56\n",
      "Tomato, Target_Spot: 211\n",
      "weight sum: 0.02533391202539425\n",
      "weights: {'Strawberry': {'healthy': 0.5804820960221331, 'unhealthy': 0.23778784656328344}, 'Tomato': {'healthy': 0.16585202743489516, 'unhealthy': 0.015878029979688273}}\n",
      "\n",
      "\n",
      "image dimensions: (256, 256)\n",
      "plants in this dataset: ['Apple', 'Cherry_(including_sour)', 'Corn_(maize)', 'Grape', 'Peach', 'Pepper,_bell', 'Potato', 'Strawberry', 'Tomato']\n",
      "Apple, Black_rot: 94\n",
      "Apple, healthy: 247\n",
      "Apple, Apple_scab: 95\n",
      "Apple, Cedar_apple_rust: 42\n",
      "Cherry_(including_sour), healthy: 128\n",
      "Cherry_(including_sour), Powdery_mildew: 158\n",
      "Corn_(maize), Northern_Leaf_Blight: 148\n",
      "Corn_(maize), healthy: 175\n",
      "Corn_(maize), Common_rust_: 179\n",
      "Corn_(maize), Cercospora_leaf_spot Gray_leaf_spot: 77\n",
      "Grape, Esca_(Black_Measles): 208\n",
      "Grape, Black_rot: 177\n",
      "Grape, healthy: 64\n",
      "Grape, Leaf_blight_(Isariopsis_Leaf_Spot): 162\n",
      "Peach, healthy: 55\n",
      "Peach, Bacterial_spot: 345\n",
      "Pepper,_bell, healthy: 222\n",
      "Pepper,_bell, Bacterial_spot: 150\n",
      "Potato, healthy: 23\n",
      "Potato, Late_blight: 150\n",
      "Potato, Early_blight: 150\n",
      "Strawberry, healthy: 69\n",
      "Strawberry, Leaf_scorch: 167\n",
      "Tomato, Septoria_leaf_spot: 266\n",
      "Tomato, Leaf_Mold: 143\n",
      "Tomato, healthy: 239\n",
      "Tomato, Spider_mites Two-spotted_spider_mite: 252\n",
      "Tomato, Late_blight: 287\n",
      "Tomato, Bacterial_spot: 320\n",
      "Tomato, Early_blight: 150\n",
      "Tomato, Tomato_Yellow_Leaf_Curl_Virus: 804\n",
      "Tomato, Tomato_mosaic_virus: 56\n",
      "Tomato, Target_Spot: 211\n",
      "weight sum: 0.15229166810538805\n",
      "weights: {'Apple': {'healthy': 0.02658440245824702, 'unhealthy': 0.02842574635145893}, 'Cherry_(including_sour)': {'healthy': 0.05129958911864854, 'unhealthy': 0.04155916080498109}, 'Corn_(maize)': {'healthy': 0.037521985183925785, 'unhealthy': 0.016253335166304488}, 'Grape': {'healthy': 0.10259917823729708, 'unhealthy': 0.012004291420817208}, 'Peach': {'healthy': 0.11938813467612752, 'unhealthy': 0.019032891035324677}, 'Pepper,_bell': {'healthy': 0.029578141473815375, 'unhealthy': 0.043775649381246756}, 'Potato': {'healthy': 0.28549336552987015, 'unhealthy': 0.021887824690623378}, 'Strawberry': {'healthy': 0.09516445517662338, 'unhealthy': 0.039319445552018044}, 'Tomato': {'healthy': 0.027474256933836875, 'unhealthy': 0.0026381468088336737}}\n",
      "\n",
      "\n",
      "plants in this dataset: ['Apple']\n",
      "Apple, Black_rot: 94\n",
      "Apple, healthy: 247\n",
      "Apple, Apple_scab: 95\n",
      "Apple, Cedar_apple_rust: 42\n",
      "weight sum: 0.008377587324955745\n",
      "weights: {'Apple': {'healthy': 0.48326359832635984, 'unhealthy': 0.5167364016736402}}\n",
      "\n",
      "\n",
      "plants in this dataset: ['Cherry_(including_sour)']\n",
      "Cherry_(including_sour), healthy: 128\n",
      "Cherry_(including_sour), Powdery_mildew: 158\n",
      "weight sum: 0.014141613924050632\n",
      "weights: {'Cherry_(including_sour)': {'healthy': 0.5524475524475525, 'unhealthy': 0.44755244755244755}}\n",
      "\n",
      "\n",
      "plants in this dataset: ['Corn_(maize)']\n",
      "Corn_(maize), Northern_Leaf_Blight: 148\n",
      "Corn_(maize), healthy: 175\n",
      "Corn_(maize), Common_rust_: 179\n",
      "Corn_(maize), Cercospora_leaf_spot Gray_leaf_spot: 77\n",
      "weight sum: 0.008189533239038189\n",
      "weights: {'Corn_(maize)': {'healthy': 0.6977547495682211, 'unhealthy': 0.30224525043177897}}\n",
      "\n",
      "\n",
      "plants in this dataset: ['Grape']\n",
      "Grape, Esca_(Black_Measles): 208\n",
      "Grape, Black_rot: 177\n",
      "Grape, healthy: 64\n",
      "Grape, Leaf_blight_(Isariopsis_Leaf_Spot): 162\n",
      "weight sum: 0.017453153564899453\n",
      "weights: {'Grape': {'healthy': 0.895253682487725, 'unhealthy': 0.10474631751227496}}\n",
      "\n",
      "\n",
      "plants in this dataset: ['Peach']\n",
      "Peach, healthy: 55\n",
      "Peach, Bacterial_spot: 345\n",
      "weight sum: 0.021080368906455864\n",
      "weights: {'Peach': {'healthy': 0.8624999999999999, 'unhealthy': 0.13749999999999998}}\n",
      "\n",
      "\n",
      "plants in this dataset: ['Pepper,_bell']\n",
      "Pepper,_bell, healthy: 222\n",
      "Pepper,_bell, Bacterial_spot: 150\n",
      "weight sum: 0.011171171171171172\n",
      "weights: {'Pepper,_bell': {'healthy': 0.40322580645161293, 'unhealthy': 0.5967741935483871}}\n",
      "\n",
      "\n",
      "plants in this dataset: ['Potato']\n",
      "Potato, healthy: 23\n",
      "Potato, Late_blight: 150\n",
      "Potato, Early_blight: 150\n",
      "weight sum: 0.04681159420289855\n",
      "weights: {'Potato': {'healthy': 0.9287925696594427, 'unhealthy': 0.07120743034055728}}\n",
      "\n",
      "\n",
      "plants in this dataset: ['Strawberry']\n",
      "Strawberry, healthy: 69\n",
      "Strawberry, Leaf_scorch: 167\n",
      "weight sum: 0.020480777575284215\n",
      "weights: {'Strawberry': {'healthy': 0.7076271186440678, 'unhealthy': 0.2923728813559322}}\n",
      "\n",
      "\n",
      "plants in this dataset: ['Tomato']\n",
      "Tomato, Septoria_leaf_spot: 266\n",
      "Tomato, Leaf_Mold: 143\n",
      "Tomato, healthy: 239\n",
      "Tomato, Spider_mites Two-spotted_spider_mite: 252\n",
      "Tomato, Late_blight: 287\n",
      "Tomato, Bacterial_spot: 320\n",
      "Tomato, Early_blight: 150\n",
      "Tomato, Tomato_Yellow_Leaf_Curl_Virus: 804\n",
      "Tomato, Tomato_mosaic_virus: 56\n",
      "Tomato, Target_Spot: 211\n",
      "weight sum: 0.004585868196634228\n",
      "weights: {'Tomato': {'healthy': 0.9123900293255133, 'unhealthy': 0.08760997067448681}}\n",
      "\n",
      "\n"
     ]
    }
   ],
   "source": [
    "from datamodule import ZeroShotDataModule\n",
    "dm = ZeroShotDataModule(batch_size = 64, \n",
    "                        test_plants = 'all', \n",
    "                        train_plants = ['Strawberry', 'Tomato'])\n",
    "dm.setup()"
   ]
  },
  {
   "cell_type": "code",
   "execution_count": 57,
   "metadata": {
    "scrolled": true
   },
   "outputs": [
    {
     "name": "stderr",
     "output_type": "stream",
     "text": [
      "GPU available: True, used: True\n",
      "TPU available: None, using: 0 TPU cores\n",
      "LOCAL_RANK: 0 - CUDA_VISIBLE_DEVICES: [1]\n",
      "\n",
      "  | Name          | Type                 | Params\n",
      "-------------------------------------------------------\n",
      "0 | image_model   | ImEncodeModel        | 11.2 M\n",
      "1 | predictor     | Sequential           | 699 K \n",
      "2 | train_metrics | MetricCollection     | 0     \n",
      "3 | valid_metrics | MetricCollection     | 0     \n",
      "4 | test_metrics  | MetricCollection     | 0     \n",
      "5 | confmat       | ConfusionMatrix      | 0     \n",
      "6 | prc           | PrecisionRecallCurve | 0     \n",
      "-------------------------------------------------------\n",
      "11.9 M    Trainable params\n",
      "0         Non-trainable params\n",
      "11.9 M    Total params\n",
      "47.504    Total estimated model params size (MB)\n"
     ]
    },
    {
     "data": {
      "application/vnd.jupyter.widget-view+json": {
       "model_id": "",
       "version_major": 2,
       "version_minor": 0
      },
      "text/plain": [
       "HBox(children=(FloatProgress(value=1.0, bar_style='info', description='Validation sanity check', layout=Layout…"
      ]
     },
     "metadata": {},
     "output_type": "display_data"
    },
    {
     "data": {
      "application/vnd.jupyter.widget-view+json": {
       "model_id": "1ba52b75088b4070b6d0d2443fe4dcee",
       "version_major": 2,
       "version_minor": 0
      },
      "text/plain": [
       "HBox(children=(FloatProgress(value=1.0, bar_style='info', description='Training', layout=Layout(flex='2'), max…"
      ]
     },
     "metadata": {},
     "output_type": "display_data"
    },
    {
     "data": {
      "application/vnd.jupyter.widget-view+json": {
       "model_id": "",
       "version_major": 2,
       "version_minor": 0
      },
      "text/plain": [
       "HBox(children=(FloatProgress(value=1.0, bar_style='info', description='Validating', layout=Layout(flex='2'), m…"
      ]
     },
     "metadata": {},
     "output_type": "display_data"
    },
    {
     "data": {
      "application/vnd.jupyter.widget-view+json": {
       "model_id": "",
       "version_major": 2,
       "version_minor": 0
      },
      "text/plain": [
       "HBox(children=(FloatProgress(value=1.0, bar_style='info', description='Validating', layout=Layout(flex='2'), m…"
      ]
     },
     "metadata": {},
     "output_type": "display_data"
    },
    {
     "data": {
      "application/vnd.jupyter.widget-view+json": {
       "model_id": "",
       "version_major": 2,
       "version_minor": 0
      },
      "text/plain": [
       "HBox(children=(FloatProgress(value=1.0, bar_style='info', description='Validating', layout=Layout(flex='2'), m…"
      ]
     },
     "metadata": {},
     "output_type": "display_data"
    },
    {
     "data": {
      "application/vnd.jupyter.widget-view+json": {
       "model_id": "",
       "version_major": 2,
       "version_minor": 0
      },
      "text/plain": [
       "HBox(children=(FloatProgress(value=1.0, bar_style='info', description='Validating', layout=Layout(flex='2'), m…"
      ]
     },
     "metadata": {},
     "output_type": "display_data"
    },
    {
     "data": {
      "application/vnd.jupyter.widget-view+json": {
       "model_id": "",
       "version_major": 2,
       "version_minor": 0
      },
      "text/plain": [
       "HBox(children=(FloatProgress(value=1.0, bar_style='info', description='Validating', layout=Layout(flex='2'), m…"
      ]
     },
     "metadata": {},
     "output_type": "display_data"
    },
    {
     "data": {
      "application/vnd.jupyter.widget-view+json": {
       "model_id": "",
       "version_major": 2,
       "version_minor": 0
      },
      "text/plain": [
       "HBox(children=(FloatProgress(value=1.0, bar_style='info', description='Validating', layout=Layout(flex='2'), m…"
      ]
     },
     "metadata": {},
     "output_type": "display_data"
    },
    {
     "data": {
      "application/vnd.jupyter.widget-view+json": {
       "model_id": "",
       "version_major": 2,
       "version_minor": 0
      },
      "text/plain": [
       "HBox(children=(FloatProgress(value=1.0, bar_style='info', description='Validating', layout=Layout(flex='2'), m…"
      ]
     },
     "metadata": {},
     "output_type": "display_data"
    },
    {
     "data": {
      "application/vnd.jupyter.widget-view+json": {
       "model_id": "",
       "version_major": 2,
       "version_minor": 0
      },
      "text/plain": [
       "HBox(children=(FloatProgress(value=1.0, bar_style='info', description='Validating', layout=Layout(flex='2'), m…"
      ]
     },
     "metadata": {},
     "output_type": "display_data"
    },
    {
     "data": {
      "application/vnd.jupyter.widget-view+json": {
       "model_id": "",
       "version_major": 2,
       "version_minor": 0
      },
      "text/plain": [
       "HBox(children=(FloatProgress(value=1.0, bar_style='info', description='Validating', layout=Layout(flex='2'), m…"
      ]
     },
     "metadata": {},
     "output_type": "display_data"
    },
    {
     "data": {
      "application/vnd.jupyter.widget-view+json": {
       "model_id": "",
       "version_major": 2,
       "version_minor": 0
      },
      "text/plain": [
       "HBox(children=(FloatProgress(value=1.0, bar_style='info', description='Validating', layout=Layout(flex='2'), m…"
      ]
     },
     "metadata": {},
     "output_type": "display_data"
    },
    {
     "data": {
      "application/vnd.jupyter.widget-view+json": {
       "model_id": "",
       "version_major": 2,
       "version_minor": 0
      },
      "text/plain": [
       "HBox(children=(FloatProgress(value=1.0, bar_style='info', description='Validating', layout=Layout(flex='2'), m…"
      ]
     },
     "metadata": {},
     "output_type": "display_data"
    },
    {
     "data": {
      "application/vnd.jupyter.widget-view+json": {
       "model_id": "",
       "version_major": 2,
       "version_minor": 0
      },
      "text/plain": [
       "HBox(children=(FloatProgress(value=1.0, bar_style='info', description='Validating', layout=Layout(flex='2'), m…"
      ]
     },
     "metadata": {},
     "output_type": "display_data"
    },
    {
     "data": {
      "application/vnd.jupyter.widget-view+json": {
       "model_id": "",
       "version_major": 2,
       "version_minor": 0
      },
      "text/plain": [
       "HBox(children=(FloatProgress(value=1.0, bar_style='info', description='Validating', layout=Layout(flex='2'), m…"
      ]
     },
     "metadata": {},
     "output_type": "display_data"
    },
    {
     "data": {
      "application/vnd.jupyter.widget-view+json": {
       "model_id": "",
       "version_major": 2,
       "version_minor": 0
      },
      "text/plain": [
       "HBox(children=(FloatProgress(value=1.0, bar_style='info', description='Validating', layout=Layout(flex='2'), m…"
      ]
     },
     "metadata": {},
     "output_type": "display_data"
    },
    {
     "data": {
      "application/vnd.jupyter.widget-view+json": {
       "model_id": "",
       "version_major": 2,
       "version_minor": 0
      },
      "text/plain": [
       "HBox(children=(FloatProgress(value=1.0, bar_style='info', description='Validating', layout=Layout(flex='2'), m…"
      ]
     },
     "metadata": {},
     "output_type": "display_data"
    },
    {
     "data": {
      "application/vnd.jupyter.widget-view+json": {
       "model_id": "",
       "version_major": 2,
       "version_minor": 0
      },
      "text/plain": [
       "HBox(children=(FloatProgress(value=1.0, bar_style='info', description='Validating', layout=Layout(flex='2'), m…"
      ]
     },
     "metadata": {},
     "output_type": "display_data"
    },
    {
     "data": {
      "application/vnd.jupyter.widget-view+json": {
       "model_id": "",
       "version_major": 2,
       "version_minor": 0
      },
      "text/plain": [
       "HBox(children=(FloatProgress(value=1.0, bar_style='info', description='Validating', layout=Layout(flex='2'), m…"
      ]
     },
     "metadata": {},
     "output_type": "display_data"
    },
    {
     "data": {
      "application/vnd.jupyter.widget-view+json": {
       "model_id": "",
       "version_major": 2,
       "version_minor": 0
      },
      "text/plain": [
       "HBox(children=(FloatProgress(value=1.0, bar_style='info', description='Validating', layout=Layout(flex='2'), m…"
      ]
     },
     "metadata": {},
     "output_type": "display_data"
    },
    {
     "data": {
      "application/vnd.jupyter.widget-view+json": {
       "model_id": "",
       "version_major": 2,
       "version_minor": 0
      },
      "text/plain": [
       "HBox(children=(FloatProgress(value=1.0, bar_style='info', description='Validating', layout=Layout(flex='2'), m…"
      ]
     },
     "metadata": {},
     "output_type": "display_data"
    },
    {
     "data": {
      "application/vnd.jupyter.widget-view+json": {
       "model_id": "",
       "version_major": 2,
       "version_minor": 0
      },
      "text/plain": [
       "HBox(children=(FloatProgress(value=1.0, bar_style='info', description='Validating', layout=Layout(flex='2'), m…"
      ]
     },
     "metadata": {},
     "output_type": "display_data"
    },
    {
     "data": {
      "application/vnd.jupyter.widget-view+json": {
       "model_id": "",
       "version_major": 2,
       "version_minor": 0
      },
      "text/plain": [
       "HBox(children=(FloatProgress(value=1.0, bar_style='info', description='Validating', layout=Layout(flex='2'), m…"
      ]
     },
     "metadata": {},
     "output_type": "display_data"
    },
    {
     "data": {
      "application/vnd.jupyter.widget-view+json": {
       "model_id": "",
       "version_major": 2,
       "version_minor": 0
      },
      "text/plain": [
       "HBox(children=(FloatProgress(value=1.0, bar_style='info', description='Validating', layout=Layout(flex='2'), m…"
      ]
     },
     "metadata": {},
     "output_type": "display_data"
    },
    {
     "data": {
      "application/vnd.jupyter.widget-view+json": {
       "model_id": "",
       "version_major": 2,
       "version_minor": 0
      },
      "text/plain": [
       "HBox(children=(FloatProgress(value=1.0, bar_style='info', description='Validating', layout=Layout(flex='2'), m…"
      ]
     },
     "metadata": {},
     "output_type": "display_data"
    },
    {
     "data": {
      "application/vnd.jupyter.widget-view+json": {
       "model_id": "",
       "version_major": 2,
       "version_minor": 0
      },
      "text/plain": [
       "HBox(children=(FloatProgress(value=1.0, bar_style='info', description='Validating', layout=Layout(flex='2'), m…"
      ]
     },
     "metadata": {},
     "output_type": "display_data"
    },
    {
     "data": {
      "application/vnd.jupyter.widget-view+json": {
       "model_id": "",
       "version_major": 2,
       "version_minor": 0
      },
      "text/plain": [
       "HBox(children=(FloatProgress(value=1.0, bar_style='info', description='Validating', layout=Layout(flex='2'), m…"
      ]
     },
     "metadata": {},
     "output_type": "display_data"
    },
    {
     "data": {
      "application/vnd.jupyter.widget-view+json": {
       "model_id": "",
       "version_major": 2,
       "version_minor": 0
      },
      "text/plain": [
       "HBox(children=(FloatProgress(value=1.0, bar_style='info', description='Validating', layout=Layout(flex='2'), m…"
      ]
     },
     "metadata": {},
     "output_type": "display_data"
    },
    {
     "data": {
      "application/vnd.jupyter.widget-view+json": {
       "model_id": "",
       "version_major": 2,
       "version_minor": 0
      },
      "text/plain": [
       "HBox(children=(FloatProgress(value=1.0, bar_style='info', description='Validating', layout=Layout(flex='2'), m…"
      ]
     },
     "metadata": {},
     "output_type": "display_data"
    },
    {
     "data": {
      "application/vnd.jupyter.widget-view+json": {
       "model_id": "",
       "version_major": 2,
       "version_minor": 0
      },
      "text/plain": [
       "HBox(children=(FloatProgress(value=1.0, bar_style='info', description='Validating', layout=Layout(flex='2'), m…"
      ]
     },
     "metadata": {},
     "output_type": "display_data"
    },
    {
     "data": {
      "application/vnd.jupyter.widget-view+json": {
       "model_id": "",
       "version_major": 2,
       "version_minor": 0
      },
      "text/plain": [
       "HBox(children=(FloatProgress(value=1.0, bar_style='info', description='Validating', layout=Layout(flex='2'), m…"
      ]
     },
     "metadata": {},
     "output_type": "display_data"
    },
    {
     "data": {
      "application/vnd.jupyter.widget-view+json": {
       "model_id": "",
       "version_major": 2,
       "version_minor": 0
      },
      "text/plain": [
       "HBox(children=(FloatProgress(value=1.0, bar_style='info', description='Validating', layout=Layout(flex='2'), m…"
      ]
     },
     "metadata": {},
     "output_type": "display_data"
    },
    {
     "data": {
      "application/vnd.jupyter.widget-view+json": {
       "model_id": "",
       "version_major": 2,
       "version_minor": 0
      },
      "text/plain": [
       "HBox(children=(FloatProgress(value=1.0, bar_style='info', description='Validating', layout=Layout(flex='2'), m…"
      ]
     },
     "metadata": {},
     "output_type": "display_data"
    },
    {
     "data": {
      "application/vnd.jupyter.widget-view+json": {
       "model_id": "",
       "version_major": 2,
       "version_minor": 0
      },
      "text/plain": [
       "HBox(children=(FloatProgress(value=1.0, bar_style='info', description='Validating', layout=Layout(flex='2'), m…"
      ]
     },
     "metadata": {},
     "output_type": "display_data"
    },
    {
     "data": {
      "application/vnd.jupyter.widget-view+json": {
       "model_id": "",
       "version_major": 2,
       "version_minor": 0
      },
      "text/plain": [
       "HBox(children=(FloatProgress(value=1.0, bar_style='info', description='Validating', layout=Layout(flex='2'), m…"
      ]
     },
     "metadata": {},
     "output_type": "display_data"
    },
    {
     "data": {
      "application/vnd.jupyter.widget-view+json": {
       "model_id": "",
       "version_major": 2,
       "version_minor": 0
      },
      "text/plain": [
       "HBox(children=(FloatProgress(value=1.0, bar_style='info', description='Validating', layout=Layout(flex='2'), m…"
      ]
     },
     "metadata": {},
     "output_type": "display_data"
    },
    {
     "data": {
      "application/vnd.jupyter.widget-view+json": {
       "model_id": "",
       "version_major": 2,
       "version_minor": 0
      },
      "text/plain": [
       "HBox(children=(FloatProgress(value=1.0, bar_style='info', description='Validating', layout=Layout(flex='2'), m…"
      ]
     },
     "metadata": {},
     "output_type": "display_data"
    },
    {
     "data": {
      "application/vnd.jupyter.widget-view+json": {
       "model_id": "",
       "version_major": 2,
       "version_minor": 0
      },
      "text/plain": [
       "HBox(children=(FloatProgress(value=1.0, bar_style='info', description='Validating', layout=Layout(flex='2'), m…"
      ]
     },
     "metadata": {},
     "output_type": "display_data"
    },
    {
     "data": {
      "application/vnd.jupyter.widget-view+json": {
       "model_id": "",
       "version_major": 2,
       "version_minor": 0
      },
      "text/plain": [
       "HBox(children=(FloatProgress(value=1.0, bar_style='info', description='Validating', layout=Layout(flex='2'), m…"
      ]
     },
     "metadata": {},
     "output_type": "display_data"
    },
    {
     "data": {
      "application/vnd.jupyter.widget-view+json": {
       "model_id": "",
       "version_major": 2,
       "version_minor": 0
      },
      "text/plain": [
       "HBox(children=(FloatProgress(value=1.0, bar_style='info', description='Validating', layout=Layout(flex='2'), m…"
      ]
     },
     "metadata": {},
     "output_type": "display_data"
    },
    {
     "data": {
      "application/vnd.jupyter.widget-view+json": {
       "model_id": "",
       "version_major": 2,
       "version_minor": 0
      },
      "text/plain": [
       "HBox(children=(FloatProgress(value=1.0, bar_style='info', description='Validating', layout=Layout(flex='2'), m…"
      ]
     },
     "metadata": {},
     "output_type": "display_data"
    },
    {
     "data": {
      "application/vnd.jupyter.widget-view+json": {
       "model_id": "",
       "version_major": 2,
       "version_minor": 0
      },
      "text/plain": [
       "HBox(children=(FloatProgress(value=1.0, bar_style='info', description='Validating', layout=Layout(flex='2'), m…"
      ]
     },
     "metadata": {},
     "output_type": "display_data"
    },
    {
     "data": {
      "application/vnd.jupyter.widget-view+json": {
       "model_id": "",
       "version_major": 2,
       "version_minor": 0
      },
      "text/plain": [
       "HBox(children=(FloatProgress(value=1.0, bar_style='info', description='Validating', layout=Layout(flex='2'), m…"
      ]
     },
     "metadata": {},
     "output_type": "display_data"
    },
    {
     "data": {
      "application/vnd.jupyter.widget-view+json": {
       "model_id": "",
       "version_major": 2,
       "version_minor": 0
      },
      "text/plain": [
       "HBox(children=(FloatProgress(value=1.0, bar_style='info', description='Validating', layout=Layout(flex='2'), m…"
      ]
     },
     "metadata": {},
     "output_type": "display_data"
    },
    {
     "data": {
      "application/vnd.jupyter.widget-view+json": {
       "model_id": "",
       "version_major": 2,
       "version_minor": 0
      },
      "text/plain": [
       "HBox(children=(FloatProgress(value=1.0, bar_style='info', description='Validating', layout=Layout(flex='2'), m…"
      ]
     },
     "metadata": {},
     "output_type": "display_data"
    },
    {
     "data": {
      "application/vnd.jupyter.widget-view+json": {
       "model_id": "",
       "version_major": 2,
       "version_minor": 0
      },
      "text/plain": [
       "HBox(children=(FloatProgress(value=1.0, bar_style='info', description='Validating', layout=Layout(flex='2'), m…"
      ]
     },
     "metadata": {},
     "output_type": "display_data"
    },
    {
     "data": {
      "application/vnd.jupyter.widget-view+json": {
       "model_id": "",
       "version_major": 2,
       "version_minor": 0
      },
      "text/plain": [
       "HBox(children=(FloatProgress(value=1.0, bar_style='info', description='Validating', layout=Layout(flex='2'), m…"
      ]
     },
     "metadata": {},
     "output_type": "display_data"
    },
    {
     "data": {
      "application/vnd.jupyter.widget-view+json": {
       "model_id": "",
       "version_major": 2,
       "version_minor": 0
      },
      "text/plain": [
       "HBox(children=(FloatProgress(value=1.0, bar_style='info', description='Validating', layout=Layout(flex='2'), m…"
      ]
     },
     "metadata": {},
     "output_type": "display_data"
    },
    {
     "data": {
      "application/vnd.jupyter.widget-view+json": {
       "model_id": "",
       "version_major": 2,
       "version_minor": 0
      },
      "text/plain": [
       "HBox(children=(FloatProgress(value=1.0, bar_style='info', description='Validating', layout=Layout(flex='2'), m…"
      ]
     },
     "metadata": {},
     "output_type": "display_data"
    },
    {
     "data": {
      "application/vnd.jupyter.widget-view+json": {
       "model_id": "",
       "version_major": 2,
       "version_minor": 0
      },
      "text/plain": [
       "HBox(children=(FloatProgress(value=1.0, bar_style='info', description='Validating', layout=Layout(flex='2'), m…"
      ]
     },
     "metadata": {},
     "output_type": "display_data"
    },
    {
     "data": {
      "application/vnd.jupyter.widget-view+json": {
       "model_id": "",
       "version_major": 2,
       "version_minor": 0
      },
      "text/plain": [
       "HBox(children=(FloatProgress(value=1.0, bar_style='info', description='Validating', layout=Layout(flex='2'), m…"
      ]
     },
     "metadata": {},
     "output_type": "display_data"
    },
    {
     "data": {
      "application/vnd.jupyter.widget-view+json": {
       "model_id": "",
       "version_major": 2,
       "version_minor": 0
      },
      "text/plain": [
       "HBox(children=(FloatProgress(value=1.0, bar_style='info', description='Validating', layout=Layout(flex='2'), m…"
      ]
     },
     "metadata": {},
     "output_type": "display_data"
    },
    {
     "data": {
      "application/vnd.jupyter.widget-view+json": {
       "model_id": "",
       "version_major": 2,
       "version_minor": 0
      },
      "text/plain": [
       "HBox(children=(FloatProgress(value=1.0, bar_style='info', description='Validating', layout=Layout(flex='2'), m…"
      ]
     },
     "metadata": {},
     "output_type": "display_data"
    },
    {
     "data": {
      "application/vnd.jupyter.widget-view+json": {
       "model_id": "",
       "version_major": 2,
       "version_minor": 0
      },
      "text/plain": [
       "HBox(children=(FloatProgress(value=1.0, bar_style='info', description='Validating', layout=Layout(flex='2'), m…"
      ]
     },
     "metadata": {},
     "output_type": "display_data"
    },
    {
     "data": {
      "application/vnd.jupyter.widget-view+json": {
       "model_id": "",
       "version_major": 2,
       "version_minor": 0
      },
      "text/plain": [
       "HBox(children=(FloatProgress(value=1.0, bar_style='info', description='Validating', layout=Layout(flex='2'), m…"
      ]
     },
     "metadata": {},
     "output_type": "display_data"
    },
    {
     "data": {
      "application/vnd.jupyter.widget-view+json": {
       "model_id": "",
       "version_major": 2,
       "version_minor": 0
      },
      "text/plain": [
       "HBox(children=(FloatProgress(value=1.0, bar_style='info', description='Validating', layout=Layout(flex='2'), m…"
      ]
     },
     "metadata": {},
     "output_type": "display_data"
    },
    {
     "data": {
      "application/vnd.jupyter.widget-view+json": {
       "model_id": "",
       "version_major": 2,
       "version_minor": 0
      },
      "text/plain": [
       "HBox(children=(FloatProgress(value=1.0, bar_style='info', description='Validating', layout=Layout(flex='2'), m…"
      ]
     },
     "metadata": {},
     "output_type": "display_data"
    },
    {
     "data": {
      "application/vnd.jupyter.widget-view+json": {
       "model_id": "",
       "version_major": 2,
       "version_minor": 0
      },
      "text/plain": [
       "HBox(children=(FloatProgress(value=1.0, bar_style='info', description='Validating', layout=Layout(flex='2'), m…"
      ]
     },
     "metadata": {},
     "output_type": "display_data"
    },
    {
     "data": {
      "application/vnd.jupyter.widget-view+json": {
       "model_id": "",
       "version_major": 2,
       "version_minor": 0
      },
      "text/plain": [
       "HBox(children=(FloatProgress(value=1.0, bar_style='info', description='Validating', layout=Layout(flex='2'), m…"
      ]
     },
     "metadata": {},
     "output_type": "display_data"
    },
    {
     "data": {
      "application/vnd.jupyter.widget-view+json": {
       "model_id": "",
       "version_major": 2,
       "version_minor": 0
      },
      "text/plain": [
       "HBox(children=(FloatProgress(value=1.0, bar_style='info', description='Validating', layout=Layout(flex='2'), m…"
      ]
     },
     "metadata": {},
     "output_type": "display_data"
    },
    {
     "data": {
      "application/vnd.jupyter.widget-view+json": {
       "model_id": "",
       "version_major": 2,
       "version_minor": 0
      },
      "text/plain": [
       "HBox(children=(FloatProgress(value=1.0, bar_style='info', description='Validating', layout=Layout(flex='2'), m…"
      ]
     },
     "metadata": {},
     "output_type": "display_data"
    },
    {
     "data": {
      "application/vnd.jupyter.widget-view+json": {
       "model_id": "",
       "version_major": 2,
       "version_minor": 0
      },
      "text/plain": [
       "HBox(children=(FloatProgress(value=1.0, bar_style='info', description='Validating', layout=Layout(flex='2'), m…"
      ]
     },
     "metadata": {},
     "output_type": "display_data"
    },
    {
     "data": {
      "application/vnd.jupyter.widget-view+json": {
       "model_id": "",
       "version_major": 2,
       "version_minor": 0
      },
      "text/plain": [
       "HBox(children=(FloatProgress(value=1.0, bar_style='info', description='Validating', layout=Layout(flex='2'), m…"
      ]
     },
     "metadata": {},
     "output_type": "display_data"
    },
    {
     "data": {
      "application/vnd.jupyter.widget-view+json": {
       "model_id": "",
       "version_major": 2,
       "version_minor": 0
      },
      "text/plain": [
       "HBox(children=(FloatProgress(value=1.0, bar_style='info', description='Validating', layout=Layout(flex='2'), m…"
      ]
     },
     "metadata": {},
     "output_type": "display_data"
    },
    {
     "data": {
      "application/vnd.jupyter.widget-view+json": {
       "model_id": "",
       "version_major": 2,
       "version_minor": 0
      },
      "text/plain": [
       "HBox(children=(FloatProgress(value=1.0, bar_style='info', description='Validating', layout=Layout(flex='2'), m…"
      ]
     },
     "metadata": {},
     "output_type": "display_data"
    },
    {
     "data": {
      "application/vnd.jupyter.widget-view+json": {
       "model_id": "",
       "version_major": 2,
       "version_minor": 0
      },
      "text/plain": [
       "HBox(children=(FloatProgress(value=1.0, bar_style='info', description='Validating', layout=Layout(flex='2'), m…"
      ]
     },
     "metadata": {},
     "output_type": "display_data"
    },
    {
     "data": {
      "application/vnd.jupyter.widget-view+json": {
       "model_id": "",
       "version_major": 2,
       "version_minor": 0
      },
      "text/plain": [
       "HBox(children=(FloatProgress(value=1.0, bar_style='info', description='Validating', layout=Layout(flex='2'), m…"
      ]
     },
     "metadata": {},
     "output_type": "display_data"
    },
    {
     "data": {
      "application/vnd.jupyter.widget-view+json": {
       "model_id": "",
       "version_major": 2,
       "version_minor": 0
      },
      "text/plain": [
       "HBox(children=(FloatProgress(value=1.0, bar_style='info', description='Validating', layout=Layout(flex='2'), m…"
      ]
     },
     "metadata": {},
     "output_type": "display_data"
    },
    {
     "data": {
      "application/vnd.jupyter.widget-view+json": {
       "model_id": "",
       "version_major": 2,
       "version_minor": 0
      },
      "text/plain": [
       "HBox(children=(FloatProgress(value=1.0, bar_style='info', description='Validating', layout=Layout(flex='2'), m…"
      ]
     },
     "metadata": {},
     "output_type": "display_data"
    },
    {
     "data": {
      "application/vnd.jupyter.widget-view+json": {
       "model_id": "",
       "version_major": 2,
       "version_minor": 0
      },
      "text/plain": [
       "HBox(children=(FloatProgress(value=1.0, bar_style='info', description='Validating', layout=Layout(flex='2'), m…"
      ]
     },
     "metadata": {},
     "output_type": "display_data"
    },
    {
     "data": {
      "application/vnd.jupyter.widget-view+json": {
       "model_id": "",
       "version_major": 2,
       "version_minor": 0
      },
      "text/plain": [
       "HBox(children=(FloatProgress(value=1.0, bar_style='info', description='Validating', layout=Layout(flex='2'), m…"
      ]
     },
     "metadata": {},
     "output_type": "display_data"
    },
    {
     "data": {
      "application/vnd.jupyter.widget-view+json": {
       "model_id": "",
       "version_major": 2,
       "version_minor": 0
      },
      "text/plain": [
       "HBox(children=(FloatProgress(value=1.0, bar_style='info', description='Validating', layout=Layout(flex='2'), m…"
      ]
     },
     "metadata": {},
     "output_type": "display_data"
    },
    {
     "data": {
      "application/vnd.jupyter.widget-view+json": {
       "model_id": "",
       "version_major": 2,
       "version_minor": 0
      },
      "text/plain": [
       "HBox(children=(FloatProgress(value=1.0, bar_style='info', description='Validating', layout=Layout(flex='2'), m…"
      ]
     },
     "metadata": {},
     "output_type": "display_data"
    },
    {
     "data": {
      "application/vnd.jupyter.widget-view+json": {
       "model_id": "",
       "version_major": 2,
       "version_minor": 0
      },
      "text/plain": [
       "HBox(children=(FloatProgress(value=1.0, bar_style='info', description='Validating', layout=Layout(flex='2'), m…"
      ]
     },
     "metadata": {},
     "output_type": "display_data"
    },
    {
     "data": {
      "application/vnd.jupyter.widget-view+json": {
       "model_id": "",
       "version_major": 2,
       "version_minor": 0
      },
      "text/plain": [
       "HBox(children=(FloatProgress(value=1.0, bar_style='info', description='Validating', layout=Layout(flex='2'), m…"
      ]
     },
     "metadata": {},
     "output_type": "display_data"
    },
    {
     "data": {
      "application/vnd.jupyter.widget-view+json": {
       "model_id": "",
       "version_major": 2,
       "version_minor": 0
      },
      "text/plain": [
       "HBox(children=(FloatProgress(value=1.0, bar_style='info', description='Validating', layout=Layout(flex='2'), m…"
      ]
     },
     "metadata": {},
     "output_type": "display_data"
    },
    {
     "data": {
      "application/vnd.jupyter.widget-view+json": {
       "model_id": "",
       "version_major": 2,
       "version_minor": 0
      },
      "text/plain": [
       "HBox(children=(FloatProgress(value=1.0, bar_style='info', description='Validating', layout=Layout(flex='2'), m…"
      ]
     },
     "metadata": {},
     "output_type": "display_data"
    },
    {
     "data": {
      "application/vnd.jupyter.widget-view+json": {
       "model_id": "",
       "version_major": 2,
       "version_minor": 0
      },
      "text/plain": [
       "HBox(children=(FloatProgress(value=1.0, bar_style='info', description='Validating', layout=Layout(flex='2'), m…"
      ]
     },
     "metadata": {},
     "output_type": "display_data"
    },
    {
     "data": {
      "application/vnd.jupyter.widget-view+json": {
       "model_id": "",
       "version_major": 2,
       "version_minor": 0
      },
      "text/plain": [
       "HBox(children=(FloatProgress(value=1.0, bar_style='info', description='Validating', layout=Layout(flex='2'), m…"
      ]
     },
     "metadata": {},
     "output_type": "display_data"
    },
    {
     "name": "stdout",
     "output_type": "stream",
     "text": [
      "\n"
     ]
    },
    {
     "data": {
      "text/plain": [
       "1"
      ]
     },
     "execution_count": 57,
     "metadata": {},
     "output_type": "execute_result"
    }
   ],
   "source": [
    "model = FirstModel()\n",
    "checkpoint_callback = ModelCheckpoint(monitor='val/loss')\n",
    "trainer = pl.Trainer(gpus = 1, max_epochs = 650, log_every_n_steps=1, fast_dev_run = False, callbacks = checkpoint_callback)\n",
    "trainer.fit(model, dm)"
   ]
  },
  {
   "cell_type": "code",
   "execution_count": 58,
   "metadata": {},
   "outputs": [],
   "source": [
    "model = FirstModel.load_from_checkpoint(checkpoint_path = checkpoint_callback.best_model_path)"
   ]
  },
  {
   "cell_type": "code",
   "execution_count": 59,
   "metadata": {},
   "outputs": [
    {
     "name": "stdout",
     "output_type": "stream",
     "text": [
      "/home/dennis/agriculture/lightning_logs/version_94/checkpoints/epoch=12-step=2807.ckpt\n"
     ]
    }
   ],
   "source": [
    "print(checkpoint_callback.best_model_path)"
   ]
  },
  {
   "cell_type": "code",
   "execution_count": 60,
   "metadata": {},
   "outputs": [
    {
     "name": "stderr",
     "output_type": "stream",
     "text": [
      "LOCAL_RANK: 0 - CUDA_VISIBLE_DEVICES: [1]\n"
     ]
    },
    {
     "data": {
      "application/vnd.jupyter.widget-view+json": {
       "model_id": "53669df47f0a454087377d17842ff99a",
       "version_major": 2,
       "version_minor": 0
      },
      "text/plain": [
       "HBox(children=(FloatProgress(value=1.0, bar_style='info', description='Testing', layout=Layout(flex='2'), max=…"
      ]
     },
     "metadata": {},
     "output_type": "display_data"
    },
    {
     "name": "stdout",
     "output_type": "stream",
     "text": [
      "\n",
      "--------------------------------------------------------------------------------\n",
      "DATALOADER:0 TEST RESULTS\n",
      "{'test/acc': 0.8481622934341431,\n",
      " 'test/loss': 0.01288200356066227,\n",
      " 'test/precision': 0.9783281683921814,\n",
      " 'test/recall': 0.2585924565792084}\n",
      "--------------------------------------------------------------------------------\n"
     ]
    }
   ],
   "source": [
    "res = trainer.test(model, datamodule=dm)"
   ]
  },
  {
   "cell_type": "code",
   "execution_count": 61,
   "metadata": {},
   "outputs": [
    {
     "name": "stdout",
     "output_type": "stream",
     "text": [
      "tensor([[4784.,    7.],\n",
      "        [ 906.,  316.]], device='cuda:0')\n"
     ]
    },
    {
     "data": {
      "text/plain": [
       "<matplotlib.colorbar.Colorbar at 0x7f6d5a98d0f0>"
      ]
     },
     "execution_count": 61,
     "metadata": {},
     "output_type": "execute_result"
    },
    {
     "data": {
      "image/png": "[encoded data removed]",
      "text/plain": [
       "<Figure size 432x288 with 2 Axes>"
      ]
     },
     "metadata": {
      "needs_background": "light"
     },
     "output_type": "display_data"
    }
   ],
   "source": [
    "print(model.confmat.compute())\n",
    "precision, recall, thresholds = model.prc.compute()\n",
    "import matplotlib.pyplot as plt\n",
    "#print(thresholds)\n",
    "plt.scatter(recall[:-1].cpu().numpy(), precision[:-1].cpu().numpy(), c= thresholds.cpu().numpy().squeeze())\n",
    "plt.colorbar()"
   ]
  },
  {
   "cell_type": "code",
   "execution_count": null,
   "metadata": {},
   "outputs": [],
   "source": []
  },
  {
   "cell_type": "code",
   "execution_count": 62,
   "metadata": {
    "scrolled": true
   },
   "outputs": [
    {
     "name": "stderr",
     "output_type": "stream",
     "text": [
      "LOCAL_RANK: 0 - CUDA_VISIBLE_DEVICES: [1]\n"
     ]
    },
    {
     "name": "stdout",
     "output_type": "stream",
     "text": [
      "Apple\n"
     ]
    },
    {
     "data": {
      "application/vnd.jupyter.widget-view+json": {
       "model_id": "9f859e81227b46e2ad3d299f119c65e6",
       "version_major": 2,
       "version_minor": 0
      },
      "text/plain": [
       "HBox(children=(FloatProgress(value=1.0, bar_style='info', description='Testing', layout=Layout(flex='2'), max=…"
      ]
     },
     "metadata": {},
     "output_type": "display_data"
    },
    {
     "name": "stdout",
     "output_type": "stream",
     "text": [
      "\n",
      "--------------------------------------------------------------------------------\n",
      "DATALOADER:0 TEST RESULTS\n",
      "{'test/acc': 0.5146443247795105,\n",
      " 'test/loss': 0.40966928005218506,\n",
      " 'test/precision': 0.7777777910232544,\n",
      " 'test/recall': 0.08502024412155151}\n",
      "--------------------------------------------------------------------------------\n",
      "tensor([[  0., 231.],\n",
      "        [  0., 247.]], device='cuda:0')\n"
     ]
    },
    {
     "data": {
      "image/png": "[encoded data removed]",
      "text/plain": [
       "<Figure size 432x288 with 2 Axes>"
      ]
     },
     "metadata": {
      "needs_background": "light"
     },
     "output_type": "display_data"
    },
    {
     "name": "stderr",
     "output_type": "stream",
     "text": [
      "LOCAL_RANK: 0 - CUDA_VISIBLE_DEVICES: [1]\n"
     ]
    },
    {
     "name": "stdout",
     "output_type": "stream",
     "text": [
      "Cherry_(including_sour)\n"
     ]
    },
    {
     "data": {
      "application/vnd.jupyter.widget-view+json": {
       "model_id": "6f63f34b25cf4d9ab20fa60e8c142ddd",
       "version_major": 2,
       "version_minor": 0
      },
      "text/plain": [
       "HBox(children=(FloatProgress(value=1.0, bar_style='info', description='Testing', layout=Layout(flex='2'), max=…"
      ]
     },
     "metadata": {},
     "output_type": "display_data"
    },
    {
     "name": "stdout",
     "output_type": "stream",
     "text": [
      "\n",
      "--------------------------------------------------------------------------------\n",
      "DATALOADER:0 TEST RESULTS\n",
      "{'test/acc': 0.6573426723480225,\n",
      " 'test/loss': 0.3216174840927124,\n",
      " 'test/precision': 1.0,\n",
      " 'test/recall': 0.234375}\n",
      "--------------------------------------------------------------------------------\n",
      "tensor([[  0., 158.],\n",
      "        [  0., 128.]], device='cuda:0')\n"
     ]
    },
    {
     "data": {
      "image/png": "[encoded data removed]",
      "text/plain": [
       "<Figure size 432x288 with 2 Axes>"
      ]
     },
     "metadata": {
      "needs_background": "light"
     },
     "output_type": "display_data"
    },
    {
     "name": "stderr",
     "output_type": "stream",
     "text": [
      "LOCAL_RANK: 0 - CUDA_VISIBLE_DEVICES: [1]\n"
     ]
    },
    {
     "name": "stdout",
     "output_type": "stream",
     "text": [
      "Corn_(maize)\n"
     ]
    },
    {
     "data": {
      "application/vnd.jupyter.widget-view+json": {
       "model_id": "f418165739dc4529ac072065318cb2ab",
       "version_major": 2,
       "version_minor": 0
      },
      "text/plain": [
       "HBox(children=(FloatProgress(value=1.0, bar_style='info', description='Testing', layout=Layout(flex='2'), max=…"
      ]
     },
     "metadata": {},
     "output_type": "display_data"
    },
    {
     "name": "stdout",
     "output_type": "stream",
     "text": [
      "\n",
      "--------------------------------------------------------------------------------\n",
      "DATALOADER:0 TEST RESULTS\n",
      "{'test/acc': 0.7461140155792236,\n",
      " 'test/loss': 0.34373655915260315,\n",
      " 'test/precision': 1.0,\n",
      " 'test/recall': 0.1599999964237213}\n",
      "--------------------------------------------------------------------------------\n",
      "tensor([[  0., 404.],\n",
      "        [  0., 175.]], device='cuda:0')\n"
     ]
    },
    {
     "data": {
      "image/png": "[encoded data removed]",
      "text/plain": [
       "<Figure size 432x288 with 2 Axes>"
      ]
     },
     "metadata": {
      "needs_background": "light"
     },
     "output_type": "display_data"
    },
    {
     "name": "stderr",
     "output_type": "stream",
     "text": [
      "LOCAL_RANK: 0 - CUDA_VISIBLE_DEVICES: [1]\n"
     ]
    },
    {
     "name": "stdout",
     "output_type": "stream",
     "text": [
      "Grape\n"
     ]
    },
    {
     "data": {
      "application/vnd.jupyter.widget-view+json": {
       "model_id": "d9ae1906e6804820941392df496a3d8b",
       "version_major": 2,
       "version_minor": 0
      },
      "text/plain": [
       "HBox(children=(FloatProgress(value=1.0, bar_style='info', description='Testing', layout=Layout(flex='2'), max=…"
      ]
     },
     "metadata": {},
     "output_type": "display_data"
    },
    {
     "name": "stdout",
     "output_type": "stream",
     "text": [
      "\n",
      "--------------------------------------------------------------------------------\n",
      "DATALOADER:0 TEST RESULTS\n",
      "{'test/acc': 0.9410802125930786,\n",
      " 'test/loss': 0.10231833159923553,\n",
      " 'test/precision': 1.0,\n",
      " 'test/recall': 0.4375}\n",
      "--------------------------------------------------------------------------------\n",
      "tensor([[  0., 547.],\n",
      "        [  0.,  64.]], device='cuda:0')\n"
     ]
    },
    {
     "data": {
      "image/png": "[encoded data removed]",
      "text/plain": [
       "<Figure size 432x288 with 2 Axes>"
      ]
     },
     "metadata": {
      "needs_background": "light"
     },
     "output_type": "display_data"
    },
    {
     "name": "stderr",
     "output_type": "stream",
     "text": [
      "LOCAL_RANK: 0 - CUDA_VISIBLE_DEVICES: [1]\n"
     ]
    },
    {
     "name": "stdout",
     "output_type": "stream",
     "text": [
      "Peach\n"
     ]
    },
    {
     "data": {
      "application/vnd.jupyter.widget-view+json": {
       "model_id": "f125376f48d3464899d255645b9ed574",
       "version_major": 2,
       "version_minor": 0
      },
      "text/plain": [
       "HBox(children=(FloatProgress(value=1.0, bar_style='info', description='Testing', layout=Layout(flex='2'), max=…"
      ]
     },
     "metadata": {},
     "output_type": "display_data"
    },
    {
     "name": "stdout",
     "output_type": "stream",
     "text": [
      "\n",
      "--------------------------------------------------------------------------------\n",
      "DATALOADER:0 TEST RESULTS\n",
      "{'test/acc': 0.862500011920929,\n",
      " 'test/loss': 0.2806248068809509,\n",
      " 'test/precision': 0.0,\n",
      " 'test/recall': 0.0}\n",
      "--------------------------------------------------------------------------------\n",
      "tensor([[  0., 345.],\n",
      "        [  0.,  55.]], device='cuda:0')\n"
     ]
    },
    {
     "data": {
      "image/png": "[encoded data removed]",
      "text/plain": [
       "<Figure size 432x288 with 2 Axes>"
      ]
     },
     "metadata": {
      "needs_background": "light"
     },
     "output_type": "display_data"
    },
    {
     "name": "stderr",
     "output_type": "stream",
     "text": [
      "LOCAL_RANK: 0 - CUDA_VISIBLE_DEVICES: [1]\n"
     ]
    },
    {
     "name": "stdout",
     "output_type": "stream",
     "text": [
      "Pepper,_bell\n"
     ]
    },
    {
     "data": {
      "application/vnd.jupyter.widget-view+json": {
       "model_id": "22c26b306c804c00a6ba37ebb9b6a45b",
       "version_major": 2,
       "version_minor": 0
      },
      "text/plain": [
       "HBox(children=(FloatProgress(value=1.0, bar_style='info', description='Testing', layout=Layout(flex='2'), max=…"
      ]
     },
     "metadata": {},
     "output_type": "display_data"
    },
    {
     "name": "stdout",
     "output_type": "stream",
     "text": [
      "\n",
      "--------------------------------------------------------------------------------\n",
      "DATALOADER:0 TEST RESULTS\n",
      "{'test/acc': 0.5295698642730713,\n",
      " 'test/loss': 0.3528211712837219,\n",
      " 'test/precision': 1.0,\n",
      " 'test/recall': 0.21171170473098755}\n",
      "--------------------------------------------------------------------------------\n",
      "tensor([[  0., 150.],\n",
      "        [  0., 222.]], device='cuda:0')\n"
     ]
    },
    {
     "data": {
      "image/png": "[encoded data removed]",
      "text/plain": [
       "<Figure size 432x288 with 2 Axes>"
      ]
     },
     "metadata": {
      "needs_background": "light"
     },
     "output_type": "display_data"
    },
    {
     "name": "stderr",
     "output_type": "stream",
     "text": [
      "LOCAL_RANK: 0 - CUDA_VISIBLE_DEVICES: [1]\n"
     ]
    },
    {
     "name": "stdout",
     "output_type": "stream",
     "text": [
      "Potato\n"
     ]
    },
    {
     "data": {
      "application/vnd.jupyter.widget-view+json": {
       "model_id": "b67c7b05a56b4c6f9e5fcdca4c09a3a3",
       "version_major": 2,
       "version_minor": 0
      },
      "text/plain": [
       "HBox(children=(FloatProgress(value=1.0, bar_style='info', description='Testing', layout=Layout(flex='2'), max=…"
      ]
     },
     "metadata": {},
     "output_type": "display_data"
    },
    {
     "name": "stdout",
     "output_type": "stream",
     "text": [
      "\n",
      "--------------------------------------------------------------------------------\n",
      "DATALOADER:0 TEST RESULTS\n",
      "{'test/acc': 0.9690402746200562,\n",
      " 'test/loss': 0.05455993115901947,\n",
      " 'test/precision': 0.9333333373069763,\n",
      " 'test/recall': 0.6086956262588501}\n",
      "--------------------------------------------------------------------------------\n",
      "tensor([[  0., 300.],\n",
      "        [  0.,  23.]], device='cuda:0')\n"
     ]
    },
    {
     "data": {
      "image/png": "[encoded data removed]",
      "text/plain": [
       "<Figure size 432x288 with 2 Axes>"
      ]
     },
     "metadata": {
      "needs_background": "light"
     },
     "output_type": "display_data"
    },
    {
     "name": "stderr",
     "output_type": "stream",
     "text": [
      "LOCAL_RANK: 0 - CUDA_VISIBLE_DEVICES: [1]\n"
     ]
    },
    {
     "name": "stdout",
     "output_type": "stream",
     "text": [
      "Strawberry\n"
     ]
    },
    {
     "data": {
      "application/vnd.jupyter.widget-view+json": {
       "model_id": "b4df99339c0a496d9dcdd0e2b3c01ea4",
       "version_major": 2,
       "version_minor": 0
      },
      "text/plain": [
       "HBox(children=(FloatProgress(value=1.0, bar_style='info', description='Testing', layout=Layout(flex='2'), max=…"
      ]
     },
     "metadata": {},
     "output_type": "display_data"
    },
    {
     "name": "stdout",
     "output_type": "stream",
     "text": [
      "\n",
      "--------------------------------------------------------------------------------\n",
      "DATALOADER:0 TEST RESULTS\n",
      "{'test/acc': 0.9745762944221497,\n",
      " 'test/loss': 0.08755472302436829,\n",
      " 'test/precision': 1.0,\n",
      " 'test/recall': 0.9130434989929199}\n",
      "--------------------------------------------------------------------------------\n",
      "tensor([[  0., 167.],\n",
      "        [  0.,  69.]], device='cuda:0')\n"
     ]
    },
    {
     "data": {
      "image/png": "[encoded data removed]",
      "text/plain": [
       "<Figure size 432x288 with 2 Axes>"
      ]
     },
     "metadata": {
      "needs_background": "light"
     },
     "output_type": "display_data"
    },
    {
     "name": "stderr",
     "output_type": "stream",
     "text": [
      "LOCAL_RANK: 0 - CUDA_VISIBLE_DEVICES: [1]\n"
     ]
    },
    {
     "name": "stdout",
     "output_type": "stream",
     "text": [
      "Tomato\n"
     ]
    },
    {
     "data": {
      "application/vnd.jupyter.widget-view+json": {
       "model_id": "b1a5888202a7472b97f4c64e540e47bc",
       "version_major": 2,
       "version_minor": 0
      },
      "text/plain": [
       "HBox(children=(FloatProgress(value=1.0, bar_style='info', description='Testing', layout=Layout(flex='2'), max=…"
      ]
     },
     "metadata": {},
     "output_type": "display_data"
    },
    {
     "name": "stdout",
     "output_type": "stream",
     "text": [
      "\n",
      "--------------------------------------------------------------------------------\n",
      "DATALOADER:0 TEST RESULTS\n",
      "{'test/acc': 0.9439149498939514,\n",
      " 'test/loss': 0.08419464528560638,\n",
      " 'test/precision': 1.0,\n",
      " 'test/recall': 0.35983264446258545}\n",
      "--------------------------------------------------------------------------------\n",
      "tensor([[   0., 2489.],\n",
      "        [   0.,  239.]], device='cuda:0')\n"
     ]
    },
    {
     "data": {
      "image/png": "[encoded data removed]",
      "text/plain": [
       "<Figure size 432x288 with 2 Axes>"
      ]
     },
     "metadata": {
      "needs_background": "light"
     },
     "output_type": "display_data"
    }
   ],
   "source": [
    "for (plant_name, dl) in dm.test_indiv_plants_dataloaders().items():\n",
    "    model.confmat.reset()\n",
    "    model.prc.reset()\n",
    "\n",
    "    print(plant_name)\n",
    "    res = trainer.test(model, test_dataloaders= dl)\n",
    "    print(model.confmat.compute())\n",
    "    precision, recall, thresholds = model.prc.compute()\n",
    "    plt.scatter(recall[:-1].cpu().numpy(), precision[:-1].cpu().numpy(), c= thresholds.cpu().numpy().squeeze(), vmin = 0, vmax = 0.0001)\n",
    "    plt.colorbar()\n",
    "    plt.show()\n",
    "    "
   ]
  },
  {
   "cell_type": "code",
   "execution_count": 67,
   "metadata": {},
   "outputs": [
    {
     "name": "stderr",
     "output_type": "stream",
     "text": [
      "LOCAL_RANK: 0 - CUDA_VISIBLE_DEVICES: [1]\n"
     ]
    },
    {
     "name": "stdout",
     "output_type": "stream",
     "text": [
      "Apple\n"
     ]
    },
    {
     "data": {
      "application/vnd.jupyter.widget-view+json": {
       "model_id": "0db7a56b2c174b7380e44def9dec6201",
       "version_major": 2,
       "version_minor": 0
      },
      "text/plain": [
       "HBox(children=(FloatProgress(value=1.0, bar_style='info', description='Testing', layout=Layout(flex='2'), max=…"
      ]
     },
     "metadata": {},
     "output_type": "display_data"
    },
    {
     "name": "stdout",
     "output_type": "stream",
     "text": [
      "\n",
      "--------------------------------------------------------------------------------\n",
      "DATALOADER:0 TEST RESULTS\n",
      "{'test/acc': 0.5146443247795105,\n",
      " 'test/loss': 0.40966928005218506,\n",
      " 'test/precision': 0.7777777910232544,\n",
      " 'test/recall': 0.08502024412155151}\n",
      "--------------------------------------------------------------------------------\n",
      "tensor([[140.,  91.],\n",
      "        [ 19., 228.]], device='cuda:0')\n"
     ]
    },
    {
     "data": {
      "image/png": "[encoded data removed]",
      "text/plain": [
       "<Figure size 432x288 with 2 Axes>"
      ]
     },
     "metadata": {
      "needs_background": "light"
     },
     "output_type": "display_data"
    }
   ],
   "source": [
    "import numpy as np\n",
    "for (plant_name, dl) in dm.test_indiv_plants_dataloaders().items():\n",
    "    if plant_name != \"Apple\":\n",
    "        continue\n",
    "    model.confmat.reset()\n",
    "    model.prc.reset()\n",
    "\n",
    "\n",
    "    ## THIS PARAMETER OFTEN HAS TO BE TWEAKED FOR MAXIMUM PERFORMANCE, BUT USUALLY FALLS AROUND 0.1\n",
    "    model.confmat.threshold = 0.135\n",
    "    print(plant_name)\n",
    "    res = trainer.test(model, test_dataloaders= dl)\n",
    "    cm = model.confmat.compute()\n",
    "    print(cm)\n",
    "    precision, recall, thresholds = model.prc.compute()\n",
    "    plt.scatter(recall[:-1].cpu().numpy(), precision[:-1].cpu().numpy(), c= thresholds.cpu().numpy().squeeze(), vmin = 0, vmax = 0.2)\n",
    "    plt.colorbar()\n",
    "    plt.show()\n",
    "\n",
    "\n",
    "results_dict = {\n",
    "    \"confusion matrix\": cm.cpu().detach().numpy(),\n",
    "    \"model path\": checkpoint_callback.best_model_path\n",
    "}\n",
    "np.save(\"initial_model_results/leave_multi_out/leave_seven_out.npy\", results_dict)"
   ]
  },
  {
   "cell_type": "code",
   "execution_count": null,
   "metadata": {},
   "outputs": [],
   "source": []
  }
 ],
 "metadata": {
  "kernelspec": {
   "display_name": "klab-localization",
   "language": "python",
   "name": "klab-localization"
  },
  "language_info": {
   "codemirror_mode": {
    "name": "ipython",
    "version": 3
   },
   "file_extension": ".py",
   "mimetype": "text/x-python",
   "name": "python",
   "nbconvert_exporter": "python",
   "pygments_lexer": "ipython3",
   "version": "3.6.8"
  }
 },
 "nbformat": 4,
 "nbformat_minor": 4
}
